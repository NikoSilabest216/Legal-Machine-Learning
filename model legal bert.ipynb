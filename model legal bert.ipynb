{
 "cells": [
  {
   "cell_type": "code",
   "execution_count": 1,
   "metadata": {},
   "outputs": [
    {
     "name": "stderr",
     "output_type": "stream",
     "text": [
      "c:\\Users\\Niko Silabest\\anaconda3\\envs\\tf_gpu\\lib\\site-packages\\tqdm\\auto.py:21: TqdmWarning: IProgress not found. Please update jupyter and ipywidgets. See https://ipywidgets.readthedocs.io/en/stable/user_install.html\n",
      "  from .autonotebook import tqdm as notebook_tqdm\n"
     ]
    }
   ],
   "source": [
    "import pandas as pd\n",
    "from sklearn.model_selection import train_test_split\n",
    "from sklearn.feature_extraction.text import TfidfVectorizer\n",
    "from sklearn.svm import SVC\n",
    "from sklearn.metrics import classification_report, accuracy_score\n",
    "from sklearn.preprocessing import LabelEncoder\n",
    "from sklearn.pipeline import make_pipeline\n",
    "from nltk.corpus import stopwords\n",
    "import nltk\n",
    "from sklearn.feature_extraction.text import ENGLISH_STOP_WORDS\n",
    "import re\n",
    "from sklearn.metrics import confusion_matrix\n",
    "import numpy as np\n",
    "import seaborn as sns\n",
    "from matplotlib import pyplot as plt\n",
    "from sklearn.naive_bayes import MultinomialNB\n",
    "from sklearn.tree import DecisionTreeClassifier\n",
    "from nltk.stem import PorterStemmer\n",
    "from transformers import BertTokenizer, TFBertForSequenceClassification, AdamW"
   ]
  },
  {
   "cell_type": "code",
   "execution_count": 2,
   "metadata": {},
   "outputs": [],
   "source": [
    "import pandas as pd\n",
    "\n",
    "# Ganti 'nama_file.xlsx' dengan nama file Excel yang ingin Anda baca\n",
    "nama_file = 'Data_Updated_with_Labels.xlsx'\n",
    "\n",
    "# Membaca file Excel ke dalam DataFrame Pandas\n",
    "df = pd.read_excel(nama_file)\n"
   ]
  },
  {
   "cell_type": "code",
   "execution_count": 3,
   "metadata": {},
   "outputs": [
    {
     "data": {
      "text/html": [
       "<div>\n",
       "<style scoped>\n",
       "    .dataframe tbody tr th:only-of-type {\n",
       "        vertical-align: middle;\n",
       "    }\n",
       "\n",
       "    .dataframe tbody tr th {\n",
       "        vertical-align: top;\n",
       "    }\n",
       "\n",
       "    .dataframe thead th {\n",
       "        text-align: right;\n",
       "    }\n",
       "</style>\n",
       "<table border=\"1\" class=\"dataframe\">\n",
       "  <thead>\n",
       "    <tr style=\"text-align: right;\">\n",
       "      <th></th>\n",
       "      <th>File Name</th>\n",
       "      <th>No Putusan</th>\n",
       "      <th>Lembaga Peradilan</th>\n",
       "      <th>Pokok Gugatan</th>\n",
       "      <th>Amar Putusan</th>\n",
       "      <th>Label</th>\n",
       "    </tr>\n",
       "  </thead>\n",
       "  <tbody>\n",
       "    <tr>\n",
       "      <th>0</th>\n",
       "      <td>putusan_1003_pdt.g_2023_pn_sby_20231229202339....</td>\n",
       "      <td>Nomor 1003/Pdt.G/2023/PN</td>\n",
       "      <td>Pengadilan Negeri Surabaya</td>\n",
       "      <td>gugatan Penggugat Menimbang bahwa permohonan p...</td>\n",
       "      <td>persidangan pada tanggal 10 Oktober 2023 yan...</td>\n",
       "      <td>tidak sesuai</td>\n",
       "    </tr>\n",
       "    <tr>\n",
       "      <th>1</th>\n",
       "      <td>putusan_100_pdt.p_2023_pn_bjm_20231230015012.p...</td>\n",
       "      <td>Nomor 100/Pdt.P/2023/PN Bjm</td>\n",
       "      <td>Pengadilan Negeri Banjarmasin</td>\n",
       "      <td>False</td>\n",
       "      <td>M E N E T A P K A N 1. Mengabulkan permohonan...</td>\n",
       "      <td>tidak sesuai</td>\n",
       "    </tr>\n",
       "    <tr>\n",
       "      <th>2</th>\n",
       "      <td>putusan_101_pdt.g_2022_pn_bjm_20231230021018.p...</td>\n",
       "      <td>Nomor 101/Pdt.G/2022/PN Bjm</td>\n",
       "      <td>Pengadilan Negeri Banjarmasin</td>\n",
       "      <td>gugatan antara: SARI JAYALANA, Lahir di Banjar...</td>\n",
       "      <td>MENGADILI: Dalam Eksepsi − Menolak eksepsi dar...</td>\n",
       "      <td>sesuai</td>\n",
       "    </tr>\n",
       "    <tr>\n",
       "      <th>3</th>\n",
       "      <td>putusan_101_pdt.p_2023_pn_bjm_20231230014140.p...</td>\n",
       "      <td>Nomor 101/Pdt.P/2023/PN Bjm</td>\n",
       "      <td>Pengadilan Negeri Banjarmasin</td>\n",
       "      <td>False</td>\n",
       "      <td>Menetapkan dan memberikan izin kepada Pemohon...</td>\n",
       "      <td>tidak sesuai</td>\n",
       "    </tr>\n",
       "    <tr>\n",
       "      <th>4</th>\n",
       "      <td>putusan_1021_pdt.g_2022_pn_jkt.brt_20231229200...</td>\n",
       "      <td>Nomor 1021/Pdt.G/2022/PN Jkt</td>\n",
       "      <td>Pengadilan Negeri Jakarta</td>\n",
       "      <td>gugatan antara: PT Mandiri Utama Finance Finan...</td>\n",
       "      <td>Demikian diputuskan dalam sidang pemusyawarata...</td>\n",
       "      <td>sesuai</td>\n",
       "    </tr>\n",
       "  </tbody>\n",
       "</table>\n",
       "</div>"
      ],
      "text/plain": [
       "                                           File Name  \\\n",
       "0  putusan_1003_pdt.g_2023_pn_sby_20231229202339....   \n",
       "1  putusan_100_pdt.p_2023_pn_bjm_20231230015012.p...   \n",
       "2  putusan_101_pdt.g_2022_pn_bjm_20231230021018.p...   \n",
       "3  putusan_101_pdt.p_2023_pn_bjm_20231230014140.p...   \n",
       "4  putusan_1021_pdt.g_2022_pn_jkt.brt_20231229200...   \n",
       "\n",
       "                     No Putusan              Lembaga Peradilan  \\\n",
       "0      Nomor 1003/Pdt.G/2023/PN     Pengadilan Negeri Surabaya   \n",
       "1   Nomor 100/Pdt.P/2023/PN Bjm  Pengadilan Negeri Banjarmasin   \n",
       "2  Nomor 101/Pdt.G/2022/PN Bjm   Pengadilan Negeri Banjarmasin   \n",
       "3  Nomor 101/Pdt.P/2023/PN Bjm   Pengadilan Negeri Banjarmasin   \n",
       "4  Nomor 1021/Pdt.G/2022/PN Jkt      Pengadilan Negeri Jakarta   \n",
       "\n",
       "                                       Pokok Gugatan  \\\n",
       "0  gugatan Penggugat Menimbang bahwa permohonan p...   \n",
       "1                                              False   \n",
       "2  gugatan antara: SARI JAYALANA, Lahir di Banjar...   \n",
       "3                                              False   \n",
       "4  gugatan antara: PT Mandiri Utama Finance Finan...   \n",
       "\n",
       "                                        Amar Putusan         Label  \n",
       "0    persidangan pada tanggal 10 Oktober 2023 yan...  tidak sesuai  \n",
       "1   M E N E T A P K A N 1. Mengabulkan permohonan...  tidak sesuai  \n",
       "2  MENGADILI: Dalam Eksepsi − Menolak eksepsi dar...        sesuai  \n",
       "3   Menetapkan dan memberikan izin kepada Pemohon...  tidak sesuai  \n",
       "4  Demikian diputuskan dalam sidang pemusyawarata...        sesuai  "
      ]
     },
     "execution_count": 3,
     "metadata": {},
     "output_type": "execute_result"
    }
   ],
   "source": [
    "df.head(5)"
   ]
  },
  {
   "cell_type": "code",
   "execution_count": 4,
   "metadata": {},
   "outputs": [
    {
     "data": {
      "text/plain": [
       "File Name            object\n",
       "No Putusan           object\n",
       "Lembaga Peradilan    object\n",
       "Pokok Gugatan        object\n",
       "Amar Putusan         object\n",
       "Label                object\n",
       "dtype: object"
      ]
     },
     "execution_count": 4,
     "metadata": {},
     "output_type": "execute_result"
    }
   ],
   "source": [
    "df.dtypes"
   ]
  },
  {
   "cell_type": "code",
   "execution_count": 5,
   "metadata": {},
   "outputs": [],
   "source": [
    "stop_words = set(stopwords.words('indonesian'))\n",
    "ps = PorterStemmer()"
   ]
  },
  {
   "cell_type": "code",
   "execution_count": 6,
   "metadata": {},
   "outputs": [],
   "source": [
    "import re\n",
    "\n",
    "def preprocess_text(text):\n",
    "    # Case folding\n",
    "    text = text.lower()\n",
    "    \n",
    "    # Hapus karakter selain huruf\n",
    "    text = re.sub(r'[^a-z\\s]', '', text)\n",
    "    \n",
    "    # Remove stopwords\n",
    "    text = ' '.join([word for word in text.split() if word.lower() not in stop_words])\n",
    "    \n",
    "    # Stemming\n",
    "    text = ' '.join([ps.stem(word) for word in text.split()])\n",
    "    \n",
    "    return text"
   ]
  },
  {
   "cell_type": "code",
   "execution_count": 7,
   "metadata": {},
   "outputs": [],
   "source": [
    "df['Amar Putusan'] = df['Amar Putusan'].apply(preprocess_text)"
   ]
  },
  {
   "cell_type": "code",
   "execution_count": 8,
   "metadata": {},
   "outputs": [],
   "source": [
    "encoder = LabelEncoder()\n",
    "df['labels'] = encoder.fit_transform(df['Label'])"
   ]
  },
  {
   "cell_type": "code",
   "execution_count": 9,
   "metadata": {},
   "outputs": [
    {
     "data": {
      "text/html": [
       "<div>\n",
       "<style scoped>\n",
       "    .dataframe tbody tr th:only-of-type {\n",
       "        vertical-align: middle;\n",
       "    }\n",
       "\n",
       "    .dataframe tbody tr th {\n",
       "        vertical-align: top;\n",
       "    }\n",
       "\n",
       "    .dataframe thead th {\n",
       "        text-align: right;\n",
       "    }\n",
       "</style>\n",
       "<table border=\"1\" class=\"dataframe\">\n",
       "  <thead>\n",
       "    <tr style=\"text-align: right;\">\n",
       "      <th></th>\n",
       "      <th>File Name</th>\n",
       "      <th>No Putusan</th>\n",
       "      <th>Lembaga Peradilan</th>\n",
       "      <th>Pokok Gugatan</th>\n",
       "      <th>Amar Putusan</th>\n",
       "      <th>Label</th>\n",
       "      <th>labels</th>\n",
       "    </tr>\n",
       "  </thead>\n",
       "  <tbody>\n",
       "    <tr>\n",
       "      <th>0</th>\n",
       "      <td>putusan_1003_pdt.g_2023_pn_sby_20231229202339....</td>\n",
       "      <td>Nomor 1003/Pdt.G/2023/PN</td>\n",
       "      <td>Pengadilan Negeri Surabaya</td>\n",
       "      <td>gugatan Penggugat Menimbang bahwa permohonan p...</td>\n",
       "      <td>persidangan tanggal oktob isinya pokoknya menc...</td>\n",
       "      <td>tidak sesuai</td>\n",
       "      <td>1</td>\n",
       "    </tr>\n",
       "    <tr>\n",
       "      <th>1</th>\n",
       "      <td>putusan_100_pdt.p_2023_pn_bjm_20231230015012.p...</td>\n",
       "      <td>Nomor 100/Pdt.P/2023/PN Bjm</td>\n",
       "      <td>Pengadilan Negeri Banjarmasin</td>\n",
       "      <td>False</td>\n",
       "      <td>m e n e t a p k a n mengabulkan permohonan pem...</td>\n",
       "      <td>tidak sesuai</td>\n",
       "      <td>1</td>\n",
       "    </tr>\n",
       "    <tr>\n",
       "      <th>2</th>\n",
       "      <td>putusan_101_pdt.g_2022_pn_bjm_20231230021018.p...</td>\n",
       "      <td>Nomor 101/Pdt.G/2022/PN Bjm</td>\n",
       "      <td>Pengadilan Negeri Banjarmasin</td>\n",
       "      <td>gugatan antara: SARI JAYALANA, Lahir di Banjar...</td>\n",
       "      <td>mengadili eksepsi menolak eksepsi tergugat ii ...</td>\n",
       "      <td>sesuai</td>\n",
       "      <td>0</td>\n",
       "    </tr>\n",
       "    <tr>\n",
       "      <th>3</th>\n",
       "      <td>putusan_101_pdt.p_2023_pn_bjm_20231230014140.p...</td>\n",
       "      <td>Nomor 101/Pdt.P/2023/PN Bjm</td>\n",
       "      <td>Pengadilan Negeri Banjarmasin</td>\n",
       "      <td>False</td>\n",
       "      <td>menetapkan izin pemohon ganti nama akta kelahi...</td>\n",
       "      <td>tidak sesuai</td>\n",
       "      <td>1</td>\n",
       "    </tr>\n",
       "    <tr>\n",
       "      <th>4</th>\n",
       "      <td>putusan_1021_pdt.g_2022_pn_jkt.brt_20231229200...</td>\n",
       "      <td>Nomor 1021/Pdt.G/2022/PN Jkt</td>\n",
       "      <td>Pengadilan Negeri Jakarta</td>\n",
       "      <td>gugatan antara: PT Mandiri Utama Finance Finan...</td>\n",
       "      <td>diputuskan sidang pemusyawaratan maje hakim pe...</td>\n",
       "      <td>sesuai</td>\n",
       "      <td>0</td>\n",
       "    </tr>\n",
       "  </tbody>\n",
       "</table>\n",
       "</div>"
      ],
      "text/plain": [
       "                                           File Name  \\\n",
       "0  putusan_1003_pdt.g_2023_pn_sby_20231229202339....   \n",
       "1  putusan_100_pdt.p_2023_pn_bjm_20231230015012.p...   \n",
       "2  putusan_101_pdt.g_2022_pn_bjm_20231230021018.p...   \n",
       "3  putusan_101_pdt.p_2023_pn_bjm_20231230014140.p...   \n",
       "4  putusan_1021_pdt.g_2022_pn_jkt.brt_20231229200...   \n",
       "\n",
       "                     No Putusan              Lembaga Peradilan  \\\n",
       "0      Nomor 1003/Pdt.G/2023/PN     Pengadilan Negeri Surabaya   \n",
       "1   Nomor 100/Pdt.P/2023/PN Bjm  Pengadilan Negeri Banjarmasin   \n",
       "2  Nomor 101/Pdt.G/2022/PN Bjm   Pengadilan Negeri Banjarmasin   \n",
       "3  Nomor 101/Pdt.P/2023/PN Bjm   Pengadilan Negeri Banjarmasin   \n",
       "4  Nomor 1021/Pdt.G/2022/PN Jkt      Pengadilan Negeri Jakarta   \n",
       "\n",
       "                                       Pokok Gugatan  \\\n",
       "0  gugatan Penggugat Menimbang bahwa permohonan p...   \n",
       "1                                              False   \n",
       "2  gugatan antara: SARI JAYALANA, Lahir di Banjar...   \n",
       "3                                              False   \n",
       "4  gugatan antara: PT Mandiri Utama Finance Finan...   \n",
       "\n",
       "                                        Amar Putusan         Label  labels  \n",
       "0  persidangan tanggal oktob isinya pokoknya menc...  tidak sesuai       1  \n",
       "1  m e n e t a p k a n mengabulkan permohonan pem...  tidak sesuai       1  \n",
       "2  mengadili eksepsi menolak eksepsi tergugat ii ...        sesuai       0  \n",
       "3  menetapkan izin pemohon ganti nama akta kelahi...  tidak sesuai       1  \n",
       "4  diputuskan sidang pemusyawaratan maje hakim pe...        sesuai       0  "
      ]
     },
     "execution_count": 9,
     "metadata": {},
     "output_type": "execute_result"
    }
   ],
   "source": [
    "df.head(5)"
   ]
  },
  {
   "cell_type": "code",
   "execution_count": 10,
   "metadata": {},
   "outputs": [
    {
     "data": {
      "text/plain": [
       "File Name            object\n",
       "No Putusan           object\n",
       "Lembaga Peradilan    object\n",
       "Pokok Gugatan        object\n",
       "Amar Putusan         object\n",
       "Label                object\n",
       "labels                int32\n",
       "dtype: object"
      ]
     },
     "execution_count": 10,
     "metadata": {},
     "output_type": "execute_result"
    }
   ],
   "source": [
    "df.dtypes"
   ]
  },
  {
   "cell_type": "code",
   "execution_count": 11,
   "metadata": {},
   "outputs": [],
   "source": [
    "# Membagi data menjadi set pelatihan dan pengujian menggunakan train_test_split.\n",
    "X_train, X_test, y_train, y_test = train_test_split(df['Amar Putusan'].to_list(), df['labels'], test_size=0.2, random_state=111)"
   ]
  },
  {
   "cell_type": "code",
   "execution_count": 12,
   "metadata": {},
   "outputs": [
    {
     "name": "stderr",
     "output_type": "stream",
     "text": [
      "c:\\Users\\Niko Silabest\\anaconda3\\envs\\tf_gpu\\lib\\site-packages\\huggingface_hub\\file_download.py:1132: FutureWarning: `resume_download` is deprecated and will be removed in version 1.0.0. Downloads always resume when possible. If you want to force a new download, use `force_download=True`.\n",
      "  warnings.warn(\n"
     ]
    }
   ],
   "source": [
    "# Load model directly\n",
    "from transformers import BertTokenizer\n",
    "tokenizer = BertTokenizer.from_pretrained(\"nlpaueb/legal-bert-base-uncased\")"
   ]
  },
  {
   "cell_type": "code",
   "execution_count": 13,
   "metadata": {},
   "outputs": [],
   "source": [
    "train_encodings = tokenizer(X_train, truncation=True, padding=True, max_length=128, return_tensors=\"tf\")\n",
    "test_encodings = tokenizer(X_test, truncation=True, padding=True, max_length=128,return_tensors=\"tf\")"
   ]
  },
  {
   "cell_type": "code",
   "execution_count": 14,
   "metadata": {},
   "outputs": [],
   "source": [
    "import tensorflow as tf"
   ]
  },
  {
   "cell_type": "code",
   "execution_count": 15,
   "metadata": {},
   "outputs": [],
   "source": [
    "train_dataset = tf.data.Dataset.from_tensor_slices((\n",
    "    dict(train_encodings),\n",
    "    y_train\n",
    "))\n",
    "test_dataset = tf.data.Dataset.from_tensor_slices((\n",
    "    dict(test_encodings),\n",
    "    y_test\n",
    "))"
   ]
  },
  {
   "cell_type": "code",
   "execution_count": 16,
   "metadata": {},
   "outputs": [
    {
     "name": "stderr",
     "output_type": "stream",
     "text": [
      "All model checkpoint layers were used when initializing TFBertForSequenceClassification.\n",
      "\n",
      "Some layers of TFBertForSequenceClassification were not initialized from the model checkpoint at nlpaueb/legal-bert-base-uncased and are newly initialized: ['classifier']\n",
      "You should probably TRAIN this model on a down-stream task to be able to use it for predictions and inference.\n"
     ]
    }
   ],
   "source": [
    "model = TFBertForSequenceClassification.from_pretrained('nlpaueb/legal-bert-base-uncased', num_labels=2)"
   ]
  },
  {
   "cell_type": "code",
   "execution_count": 17,
   "metadata": {},
   "outputs": [],
   "source": [
    "optimizer = tf.keras.optimizers.Adam(learning_rate=1e-5)\n",
    "model.compile(optimizer=optimizer, loss=model.hf_compute_loss, metrics=['accuracy'])\n"
   ]
  },
  {
   "cell_type": "code",
   "execution_count": 18,
   "metadata": {},
   "outputs": [],
   "source": [
    "early_stopper = tf.keras.callbacks.EarlyStopping(monitor='val_loss', \n",
    "                                                 patience=10, \n",
    "                                                 restore_best_weights=True)"
   ]
  },
  {
   "cell_type": "code",
   "execution_count": 19,
   "metadata": {},
   "outputs": [
    {
     "name": "stdout",
     "output_type": "stream",
     "text": [
      "Epoch 1/50\n",
      "30/30 [==============================] - 131s 4s/step - loss: 0.4891 - accuracy: 0.8076 - val_loss: 0.2688 - val_accuracy: 0.9041\n",
      "Epoch 2/50\n",
      "30/30 [==============================] - 103s 3s/step - loss: 0.1888 - accuracy: 0.9759 - val_loss: 0.1734 - val_accuracy: 0.9589\n",
      "Epoch 3/50\n",
      "30/30 [==============================] - 104s 3s/step - loss: 0.0869 - accuracy: 0.9931 - val_loss: 0.1712 - val_accuracy: 0.9589\n",
      "Epoch 4/50\n",
      "30/30 [==============================] - 103s 3s/step - loss: 0.0605 - accuracy: 0.9897 - val_loss: 0.1745 - val_accuracy: 0.9589\n",
      "Epoch 5/50\n",
      "30/30 [==============================] - 103s 3s/step - loss: 0.0526 - accuracy: 0.9897 - val_loss: 0.1873 - val_accuracy: 0.9589\n",
      "Epoch 6/50\n",
      "30/30 [==============================] - 103s 3s/step - loss: 0.0349 - accuracy: 0.9966 - val_loss: 0.1506 - val_accuracy: 0.9589\n",
      "Epoch 7/50\n",
      "30/30 [==============================] - 101s 3s/step - loss: 0.0285 - accuracy: 0.9931 - val_loss: 0.1666 - val_accuracy: 0.9589\n",
      "Epoch 8/50\n",
      "30/30 [==============================] - 102s 3s/step - loss: 0.0153 - accuracy: 0.9966 - val_loss: 0.1389 - val_accuracy: 0.9589\n",
      "Epoch 9/50\n",
      "30/30 [==============================] - 101s 3s/step - loss: 0.0097 - accuracy: 1.0000 - val_loss: 0.1671 - val_accuracy: 0.9589\n",
      "Epoch 10/50\n",
      "30/30 [==============================] - 102s 3s/step - loss: 0.0069 - accuracy: 1.0000 - val_loss: 0.1721 - val_accuracy: 0.9589\n",
      "Epoch 11/50\n",
      "30/30 [==============================] - 101s 3s/step - loss: 0.0058 - accuracy: 1.0000 - val_loss: 0.1786 - val_accuracy: 0.9589\n",
      "Epoch 12/50\n",
      "30/30 [==============================] - 102s 3s/step - loss: 0.0051 - accuracy: 1.0000 - val_loss: 0.1778 - val_accuracy: 0.9589\n",
      "Epoch 13/50\n",
      "30/30 [==============================] - 102s 3s/step - loss: 0.0044 - accuracy: 1.0000 - val_loss: 0.1842 - val_accuracy: 0.9589\n",
      "Epoch 14/50\n",
      "30/30 [==============================] - 102s 3s/step - loss: 0.0037 - accuracy: 1.0000 - val_loss: 0.1910 - val_accuracy: 0.9589\n",
      "Epoch 15/50\n",
      "30/30 [==============================] - 103s 3s/step - loss: 0.0036 - accuracy: 1.0000 - val_loss: 0.1886 - val_accuracy: 0.9589\n",
      "Epoch 16/50\n",
      "30/30 [==============================] - 104s 3s/step - loss: 0.0030 - accuracy: 1.0000 - val_loss: 0.1955 - val_accuracy: 0.9589\n",
      "Epoch 17/50\n",
      "30/30 [==============================] - 104s 3s/step - loss: 0.0026 - accuracy: 1.0000 - val_loss: 0.2045 - val_accuracy: 0.9589\n",
      "Epoch 18/50\n",
      "30/30 [==============================] - 104s 3s/step - loss: 0.0025 - accuracy: 1.0000 - val_loss: 0.2102 - val_accuracy: 0.9589\n"
     ]
    }
   ],
   "source": [
    "with tf.device('/CPU:0'):\n",
    "    history = model.fit(train_dataset.batch(10), epochs=50, validation_data=test_dataset.batch(10), batch_size=10, callbacks=[early_stopper])"
   ]
  },
  {
   "cell_type": "markdown",
   "metadata": {},
   "source": [
    "penjelasan mengenai pembahasan hasil, mengapa mendapat grafik tersebut."
   ]
  },
  {
   "cell_type": "code",
   "execution_count": 20,
   "metadata": {},
   "outputs": [
    {
     "data": {
      "image/png": "[encoded data removed]",
      "text/plain": [
       "<Figure size 1300x500 with 2 Axes>"
      ]
     },
     "metadata": {},
     "output_type": "display_data"
    }
   ],
   "source": [
    "# Plot loss dan accuracy dalam satu gambar\n",
    "plt.figure(figsize=(13, 5))\n",
    "\n",
    "# Subplot untuk Loss\n",
    "plt.subplot(1, 2, 1) \n",
    "plt.plot(history.history['loss'], label='train_loss')\n",
    "plt.plot(history.history['val_loss'], label='val_loss')\n",
    "plt.title('Loss')\n",
    "plt.legend()\n",
    "\n",
    "# Subplot untuk Accuracy\n",
    "plt.subplot(1, 2, 2)\n",
    "plt.plot(history.history['accuracy'], label='train_accuracy')\n",
    "plt.plot(history.history['val_accuracy'], label='val_accuracy')\n",
    "plt.title('Accuracy')\n",
    "plt.legend()\n",
    "\n",
    "plt.show()"
   ]
  },
  {
   "cell_type": "code",
   "execution_count": 21,
   "metadata": {},
   "outputs": [
    {
     "name": "stdout",
     "output_type": "stream",
     "text": [
      "10/10 [==============================] - 3s 128ms/step - loss: 0.1389 - accuracy: 0.9589\n",
      "Akurasi: 0.9589040875434875\n",
      "Loss: 0.13888391852378845\n"
     ]
    }
   ],
   "source": [
    "loss, accuracy = model.evaluate(test_dataset.batch(8))\n",
    "print(\"Akurasi:\", accuracy)\n",
    "print(\"Loss:\", loss)"
   ]
  },
  {
   "cell_type": "code",
   "execution_count": 22,
   "metadata": {},
   "outputs": [
    {
     "name": "stdout",
     "output_type": "stream",
     "text": [
      "10/10 [==============================] - 5s 124ms/step\n"
     ]
    }
   ],
   "source": [
    "predictions = model.predict(test_dataset.batch(8))\n",
    "predicted_classes = tf.argmax(predictions.logits, axis=1)"
   ]
  },
  {
   "cell_type": "code",
   "execution_count": 23,
   "metadata": {},
   "outputs": [
    {
     "name": "stdout",
     "output_type": "stream",
     "text": [
      "              precision    recall  f1-score   support\n",
      "\n",
      "    positive       0.92      1.00      0.96        33\n",
      "    negative       1.00      0.93      0.96        40\n",
      "\n",
      "    accuracy                           0.96        73\n",
      "   macro avg       0.96      0.96      0.96        73\n",
      "weighted avg       0.96      0.96      0.96        73\n",
      "\n"
     ]
    }
   ],
   "source": [
    " target_names = ['positive', 'negative']\n",
    " print(classification_report(y_test, predicted_classes, target_names=target_names))"
   ]
  },
  {
   "cell_type": "code",
   "execution_count": 24,
   "metadata": {},
   "outputs": [],
   "source": [
    "def plot_confusion_matrix(y_true, y_pred, labels):\n",
    "    cm = confusion_matrix(y_true, y_pred)\n",
    "    \n",
    "    plt.figure(figsize=(8, 6))\n",
    "    \n",
    "    # Menggunakan cmap tanpa nilai bawaan\n",
    "    sns.heatmap(cm, annot=True, fmt='d', cmap='Blues', xticklabels=labels, yticklabels=labels, annot_kws={\"size\": 0})\n",
    "\n",
    "    plt.title('Confusion Matrix')\n",
    "    plt.xlabel('Predicted')\n",
    "    plt.ylabel('Actual')\n",
    "\n",
    "    # Menambahkan nilai FN, TN, TP, FP di dalam heatmap\n",
    "    for i in range(len(labels)):\n",
    "        for j in range(len(labels)):\n",
    "            plt.text(j + 0.5, i + 0.5, f'{cm[i, j]:,}', ha='center', va='center', color='black', fontsize=12)\n",
    "\n",
    "    plt.show()"
   ]
  },
  {
   "cell_type": "code",
   "execution_count": 25,
   "metadata": {},
   "outputs": [
    {
     "data": {
      "image/png": "[encoded data removed]",
      "text/plain": [
       "<Figure size 800x600 with 2 Axes>"
      ]
     },
     "metadata": {},
     "output_type": "display_data"
    }
   ],
   "source": [
    "plot_confusion_matrix(y_test, predicted_classes, labels=['sesuai', 'tidak sesuai'])"
   ]
  }
 ],
 "metadata": {
  "kernelspec": {
   "display_name": "ckngMad",
   "language": "python",
   "name": "python3"
  },
  "language_info": {
   "codemirror_mode": {
    "name": "ipython",
    "version": 3
   },
   "file_extension": ".py",
   "mimetype": "text/x-python",
   "name": "python",
   "nbconvert_exporter": "python",
   "pygments_lexer": "ipython3",
   "version": "3.9.19"
  }
 },
 "nbformat": 4,
 "nbformat_minor": 2
}
